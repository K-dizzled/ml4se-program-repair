{
 "cells": [
  {
   "cell_type": "code",
   "execution_count": 1,
   "id": "5fc236a2-3ba2-4bca-951d-dbac63b9bb22",
   "metadata": {},
   "outputs": [
    {
     "name": "stdout",
     "output_type": "stream",
     "text": [
      "Requirement already satisfied: transformers in /usr/local/lib/python3.10/dist-packages (4.47.0)\n",
      "Requirement already satisfied: datasets in /usr/local/lib/python3.10/dist-packages (3.2.0)\n",
      "Requirement already satisfied: evaluate in /usr/local/lib/python3.10/dist-packages (0.4.3)\n",
      "Requirement already satisfied: accelerate in /usr/local/lib/python3.10/dist-packages (1.2.0)\n",
      "Requirement already satisfied: peft in /usr/local/lib/python3.10/dist-packages (0.14.0)\n",
      "Requirement already satisfied: scikit-learn in /usr/local/lib/python3.10/dist-packages (1.6.0)\n",
      "Requirement already satisfied: matplotlib in /usr/local/lib/python3.10/dist-packages (3.9.3)\n",
      "Requirement already satisfied: wandb in /usr/local/lib/python3.10/dist-packages (0.19.0)\n",
      "Requirement already satisfied: filelock in /usr/local/lib/python3.10/dist-packages (from transformers) (3.9.0)\n",
      "Requirement already satisfied: huggingface-hub<1.0,>=0.24.0 in /usr/local/lib/python3.10/dist-packages (from transformers) (0.26.5)\n",
      "Requirement already satisfied: numpy>=1.17 in /usr/local/lib/python3.10/dist-packages (from transformers) (1.24.1)\n",
      "Requirement already satisfied: packaging>=20.0 in /usr/local/lib/python3.10/dist-packages (from transformers) (23.2)\n",
      "Requirement already satisfied: pyyaml>=5.1 in /usr/local/lib/python3.10/dist-packages (from transformers) (6.0.1)\n",
      "Requirement already satisfied: regex!=2019.12.17 in /usr/local/lib/python3.10/dist-packages (from transformers) (2024.11.6)\n",
      "Requirement already satisfied: requests in /usr/local/lib/python3.10/dist-packages (from transformers) (2.32.3)\n",
      "Requirement already satisfied: tokenizers<0.22,>=0.21 in /usr/local/lib/python3.10/dist-packages (from transformers) (0.21.0)\n",
      "Requirement already satisfied: safetensors>=0.4.1 in /usr/local/lib/python3.10/dist-packages (from transformers) (0.4.5)\n",
      "Requirement already satisfied: tqdm>=4.27 in /usr/local/lib/python3.10/dist-packages (from transformers) (4.67.1)\n",
      "Requirement already satisfied: pyarrow>=15.0.0 in /usr/local/lib/python3.10/dist-packages (from datasets) (18.1.0)\n",
      "Requirement already satisfied: dill<0.3.9,>=0.3.0 in /usr/local/lib/python3.10/dist-packages (from datasets) (0.3.8)\n",
      "Requirement already satisfied: pandas in /usr/local/lib/python3.10/dist-packages (from datasets) (2.2.3)\n",
      "Requirement already satisfied: xxhash in /usr/local/lib/python3.10/dist-packages (from datasets) (3.5.0)\n",
      "Requirement already satisfied: multiprocess<0.70.17 in /usr/local/lib/python3.10/dist-packages (from datasets) (0.70.16)\n",
      "Requirement already satisfied: fsspec<=2024.9.0,>=2023.1.0 in /usr/local/lib/python3.10/dist-packages (from fsspec[http]<=2024.9.0,>=2023.1.0->datasets) (2024.9.0)\n",
      "Requirement already satisfied: aiohttp in /usr/local/lib/python3.10/dist-packages (from datasets) (3.11.10)\n",
      "Requirement already satisfied: psutil in /usr/local/lib/python3.10/dist-packages (from accelerate) (5.9.6)\n",
      "Requirement already satisfied: torch>=1.10.0 in /usr/local/lib/python3.10/dist-packages (from accelerate) (2.1.0+cu118)\n",
      "Requirement already satisfied: scipy>=1.6.0 in /usr/local/lib/python3.10/dist-packages (from scikit-learn) (1.14.1)\n",
      "Requirement already satisfied: joblib>=1.2.0 in /usr/local/lib/python3.10/dist-packages (from scikit-learn) (1.4.2)\n",
      "Requirement already satisfied: threadpoolctl>=3.1.0 in /usr/local/lib/python3.10/dist-packages (from scikit-learn) (3.5.0)\n",
      "Requirement already satisfied: contourpy>=1.0.1 in /usr/local/lib/python3.10/dist-packages (from matplotlib) (1.3.1)\n",
      "Requirement already satisfied: cycler>=0.10 in /usr/local/lib/python3.10/dist-packages (from matplotlib) (0.12.1)\n",
      "Requirement already satisfied: fonttools>=4.22.0 in /usr/local/lib/python3.10/dist-packages (from matplotlib) (4.55.2)\n",
      "Requirement already satisfied: kiwisolver>=1.3.1 in /usr/local/lib/python3.10/dist-packages (from matplotlib) (1.4.7)\n",
      "Requirement already satisfied: pillow>=8 in /usr/local/lib/python3.10/dist-packages (from matplotlib) (9.3.0)\n",
      "Requirement already satisfied: pyparsing>=2.3.1 in /usr/lib/python3/dist-packages (from matplotlib) (2.4.7)\n",
      "Requirement already satisfied: python-dateutil>=2.7 in /usr/local/lib/python3.10/dist-packages (from matplotlib) (2.8.2)\n",
      "Requirement already satisfied: click!=8.0.0,>=7.1 in /usr/local/lib/python3.10/dist-packages (from wandb) (8.1.7)\n",
      "Requirement already satisfied: docker-pycreds>=0.4.0 in /usr/local/lib/python3.10/dist-packages (from wandb) (0.4.0)\n",
      "Requirement already satisfied: gitpython!=3.1.29,>=1.0.0 in /usr/local/lib/python3.10/dist-packages (from wandb) (3.1.43)\n",
      "Requirement already satisfied: platformdirs in /usr/local/lib/python3.10/dist-packages (from wandb) (3.11.0)\n",
      "Requirement already satisfied: protobuf!=4.21.0,!=5.28.0,<6,>=3.19.0 in /usr/local/lib/python3.10/dist-packages (from wandb) (5.29.1)\n",
      "Requirement already satisfied: pydantic<3,>=2.6 in /usr/local/lib/python3.10/dist-packages (from wandb) (2.10.3)\n",
      "Requirement already satisfied: sentry-sdk>=2.0.0 in /usr/local/lib/python3.10/dist-packages (from wandb) (2.19.2)\n",
      "Requirement already satisfied: setproctitle in /usr/local/lib/python3.10/dist-packages (from wandb) (1.3.4)\n",
      "Requirement already satisfied: setuptools in /usr/local/lib/python3.10/dist-packages (from wandb) (68.2.2)\n",
      "Requirement already satisfied: typing-extensions<5,>=4.4 in /usr/local/lib/python3.10/dist-packages (from wandb) (4.12.2)\n",
      "Requirement already satisfied: six>=1.4.0 in /usr/lib/python3/dist-packages (from docker-pycreds>=0.4.0->wandb) (1.16.0)\n",
      "Requirement already satisfied: aiohappyeyeballs>=2.3.0 in /usr/local/lib/python3.10/dist-packages (from aiohttp->datasets) (2.4.4)\n",
      "Requirement already satisfied: aiosignal>=1.1.2 in /usr/local/lib/python3.10/dist-packages (from aiohttp->datasets) (1.3.1)\n",
      "Requirement already satisfied: async-timeout<6.0,>=4.0 in /usr/local/lib/python3.10/dist-packages (from aiohttp->datasets) (5.0.1)\n",
      "Requirement already satisfied: attrs>=17.3.0 in /usr/local/lib/python3.10/dist-packages (from aiohttp->datasets) (23.1.0)\n",
      "Requirement already satisfied: frozenlist>=1.1.1 in /usr/local/lib/python3.10/dist-packages (from aiohttp->datasets) (1.5.0)\n",
      "Requirement already satisfied: multidict<7.0,>=4.5 in /usr/local/lib/python3.10/dist-packages (from aiohttp->datasets) (6.1.0)\n",
      "Requirement already satisfied: propcache>=0.2.0 in /usr/local/lib/python3.10/dist-packages (from aiohttp->datasets) (0.2.1)\n",
      "Requirement already satisfied: yarl<2.0,>=1.17.0 in /usr/local/lib/python3.10/dist-packages (from aiohttp->datasets) (1.18.3)\n",
      "Requirement already satisfied: gitdb<5,>=4.0.1 in /usr/local/lib/python3.10/dist-packages (from gitpython!=3.1.29,>=1.0.0->wandb) (4.0.11)\n",
      "Requirement already satisfied: annotated-types>=0.6.0 in /usr/local/lib/python3.10/dist-packages (from pydantic<3,>=2.6->wandb) (0.7.0)\n",
      "Requirement already satisfied: pydantic-core==2.27.1 in /usr/local/lib/python3.10/dist-packages (from pydantic<3,>=2.6->wandb) (2.27.1)\n",
      "Requirement already satisfied: charset-normalizer<4,>=2 in /usr/local/lib/python3.10/dist-packages (from requests->transformers) (2.1.1)\n",
      "Requirement already satisfied: idna<4,>=2.5 in /usr/local/lib/python3.10/dist-packages (from requests->transformers) (3.4)\n",
      "Requirement already satisfied: urllib3<3,>=1.21.1 in /usr/local/lib/python3.10/dist-packages (from requests->transformers) (1.26.13)\n",
      "Requirement already satisfied: certifi>=2017.4.17 in /usr/local/lib/python3.10/dist-packages (from requests->transformers) (2022.12.7)\n",
      "Requirement already satisfied: sympy in /usr/local/lib/python3.10/dist-packages (from torch>=1.10.0->accelerate) (1.12)\n",
      "Requirement already satisfied: networkx in /usr/local/lib/python3.10/dist-packages (from torch>=1.10.0->accelerate) (3.0)\n",
      "Requirement already satisfied: jinja2 in /usr/local/lib/python3.10/dist-packages (from torch>=1.10.0->accelerate) (3.1.2)\n",
      "Requirement already satisfied: triton==2.1.0 in /usr/local/lib/python3.10/dist-packages (from torch>=1.10.0->accelerate) (2.1.0)\n",
      "Requirement already satisfied: pytz>=2020.1 in /usr/local/lib/python3.10/dist-packages (from pandas->datasets) (2024.2)\n",
      "Requirement already satisfied: tzdata>=2022.7 in /usr/local/lib/python3.10/dist-packages (from pandas->datasets) (2024.2)\n",
      "Requirement already satisfied: smmap<6,>=3.0.1 in /usr/local/lib/python3.10/dist-packages (from gitdb<5,>=4.0.1->gitpython!=3.1.29,>=1.0.0->wandb) (5.0.1)\n",
      "Requirement already satisfied: MarkupSafe>=2.0 in /usr/local/lib/python3.10/dist-packages (from jinja2->torch>=1.10.0->accelerate) (2.1.2)\n",
      "Requirement already satisfied: mpmath>=0.19 in /usr/local/lib/python3.10/dist-packages (from sympy->torch>=1.10.0->accelerate) (1.3.0)\n",
      "\u001b[33mWARNING: Running pip as the 'root' user can result in broken permissions and conflicting behaviour with the system package manager. It is recommended to use a virtual environment instead: https://pip.pypa.io/warnings/venv\u001b[0m\u001b[33m\n",
      "\u001b[0m\n",
      "\u001b[1m[\u001b[0m\u001b[34;49mnotice\u001b[0m\u001b[1;39;49m]\u001b[0m\u001b[39;49m A new release of pip is available: \u001b[0m\u001b[31;49m23.3.1\u001b[0m\u001b[39;49m -> \u001b[0m\u001b[32;49m24.3.1\u001b[0m\n",
      "\u001b[1m[\u001b[0m\u001b[34;49mnotice\u001b[0m\u001b[1;39;49m]\u001b[0m\u001b[39;49m To update, run: \u001b[0m\u001b[32;49mpython -m pip install --upgrade pip\u001b[0m\n",
      "Note: you may need to restart the kernel to use updated packages.\n"
     ]
    }
   ],
   "source": [
    "pip install transformers datasets evaluate accelerate peft scikit-learn matplotlib wandb"
   ]
  },
  {
   "cell_type": "code",
   "execution_count": 1,
   "id": "d8b87c29-0aa7-49f3-a3a2-d9f01a5a2bfe",
   "metadata": {},
   "outputs": [],
   "source": [
    "import torch\n",
    "from transformers import RobertaModel, RobertaTokenizer, AutoTokenizer, AutoModelForSequenceClassification, TrainingArguments, Trainer, DataCollatorWithPadding\n",
    "from peft import LoraConfig, get_peft_model\n",
    "from datasets import load_dataset, Dataset, DatasetDict\n",
    "import pandas as pd\n",
    "import evaluate\n",
    "import json\n",
    "import numpy as np\n",
    "from torch.utils.data import DataLoader\n",
    "import evaluate\n",
    "from tqdm import tqdm"
   ]
  },
  {
   "cell_type": "code",
   "execution_count": 2,
   "id": "6ba3f52e-fe91-4811-a7cd-c9806ddbbc07",
   "metadata": {},
   "outputs": [],
   "source": [
    "def construct_dataset(): \n",
    "    with open('datasets/binary_classifier_sample.json', 'r') as f:\n",
    "        data = json.load(f)\n",
    "    \n",
    "    entries = data['data']\n",
    "    for entry in entries:\n",
    "        entry['label'] = int(entry.pop('error'))\n",
    "        entry['text'] = entry.pop('code_sample')\n",
    "    df = pd.DataFrame(entries)\n",
    "    dataset = Dataset.from_pandas(df)\n",
    "\n",
    "    train_testvalid = dataset.train_test_split(test_size=0.3, shuffle=True)\n",
    "    test_valid = train_testvalid['test'].train_test_split(test_size=0.5, shuffle=True)\n",
    "\n",
    "    dataset = DatasetDict({\n",
    "        'train': train_testvalid['train'],\n",
    "        'validation': test_valid['train'],\n",
    "        'test': test_valid['test']\n",
    "    })\n",
    "\n",
    "    return dataset"
   ]
  },
  {
   "cell_type": "code",
   "execution_count": 3,
   "id": "254ff73f-9cd4-460d-9b26-8f8466684827",
   "metadata": {},
   "outputs": [],
   "source": [
    "def construct_dataset_from_general(): \n",
    "    with open('datasets/dataset_general.jsonl', 'r') as f:\n",
    "        json_list = list(f)\n",
    "\n",
    "    with open('datasets/dataset_general_add.jsonl', 'r') as f2:\n",
    "        json_list_additional = list(f2)\n",
    "\n",
    "    entries = []\n",
    "    distinct_code_samples = set()\n",
    "    for json_str in json_list:\n",
    "        json_str = json.loads(json_str)\n",
    "\n",
    "        if json_str['code_with_error']: \n",
    "            entry = {}\n",
    "            entry['text'] = json_str['code_with_error']\n",
    "            entry['label'] = 1\n",
    "            entries.append(entry)\n",
    "            distinct_code_samples.add(entry['text'])\n",
    "\n",
    "        if json_str['code_without_error']: \n",
    "            entry = {}\n",
    "            entry['text'] = json_str['code_without_error']\n",
    "            entry['label'] = 0\n",
    "            entries.append(entry)\n",
    "            distinct_code_samples.add(entry['text'])\n",
    "\n",
    "    for json_str in json_list_additional:\n",
    "        json_str = json.loads(json_str)\n",
    "\n",
    "        if json_str['code_with_error']: \n",
    "            if not json_str['code_with_error'] in distinct_code_samples:\n",
    "                entry = {}\n",
    "                entry['text'] = json_str['code_with_error']\n",
    "                entry['label'] = 1\n",
    "                entries.append(entry)\n",
    "                distinct_code_samples.add(entry['text'])\n",
    "\n",
    "        if json_str['code_without_error']: \n",
    "            if not json_str['code_without_error'] in distinct_code_samples:\n",
    "                entry = {}\n",
    "                entry['text'] = json_str['code_without_error']\n",
    "                entry['label'] = 0\n",
    "                entries.append(entry)\n",
    "                distinct_code_samples.add(entry['text'])\n",
    "    \n",
    "    dataset = Dataset.from_list(entries)\n",
    "\n",
    "    dataset_copy = Dataset.from_list(entries)\n",
    "    dataset_copy.set_format(type='pandas')\n",
    "    df = dataset_copy[:].sample(frac = 1)\n",
    "    \n",
    "    code_no_error_cnt = len(df[df['label']==0])\n",
    "    code_with_error_cnt = len(df[df['label']==1])\n",
    "    sample_count_normalized = min(code_with_error_cnt, code_no_error_cnt)\n",
    "    \n",
    "    positive_samples = df[df['label']==0][:sample_count_normalized]\n",
    "    negative_samples = df[df['label']==1][:sample_count_normalized]\n",
    "    \n",
    "    dataset = Dataset.from_pandas(pd.concat([positive_samples, negative_samples]))\n",
    "    dataset = dataset.remove_columns('__index_level_0__')\n",
    "\n",
    "    train_testvalid = dataset.train_test_split(test_size=0.3, shuffle=True)\n",
    "    test_valid = train_testvalid['test'].train_test_split(test_size=0.5, shuffle=True)\n",
    "\n",
    "    dataset = DatasetDict({\n",
    "        'train': train_testvalid['train'],\n",
    "        'validation': test_valid['train'],\n",
    "        'test': test_valid['test']\n",
    "    })\n",
    "\n",
    "    return dataset"
   ]
  },
  {
   "cell_type": "code",
   "execution_count": 4,
   "id": "a62d0307-c640-472d-9d19-18874e953913",
   "metadata": {},
   "outputs": [
    {
     "data": {
      "text/plain": [
       "DatasetDict({\n",
       "    train: Dataset({\n",
       "        features: ['text', 'label'],\n",
       "        num_rows: 170\n",
       "    })\n",
       "    validation: Dataset({\n",
       "        features: ['text', 'label'],\n",
       "        num_rows: 37\n",
       "    })\n",
       "    test: Dataset({\n",
       "        features: ['text', 'label'],\n",
       "        num_rows: 37\n",
       "    })\n",
       "})"
      ]
     },
     "execution_count": 4,
     "metadata": {},
     "output_type": "execute_result"
    }
   ],
   "source": [
    "dataset = construct_dataset_from_general()\n",
    "dataset "
   ]
  },
  {
   "cell_type": "markdown",
   "id": "2da00639-c303-4140-afcd-a04d56b6165d",
   "metadata": {},
   "source": [
    "# Tokenize"
   ]
  },
  {
   "cell_type": "code",
   "execution_count": 5,
   "id": "6e63e4a0-6ebc-451b-8f94-ca36cc58d16e",
   "metadata": {},
   "outputs": [],
   "source": [
    "MAX_LEN = 512\n",
    "peft_model_name = 'roberta-base-peft'\n",
    "modified_base = 'roberta-base-modified'\n",
    "roberta_base_model = 'roberta-base'"
   ]
  },
  {
   "cell_type": "code",
   "execution_count": 6,
   "id": "8df989fc-f9b4-4001-8fb5-ea2633c40b28",
   "metadata": {},
   "outputs": [],
   "source": [
    "# Mistral and LLaMMa checkpoints\n",
    "mistral_checkpoint = \"mistralai/Mistral-7B-v0.1\"\n",
    "llama_checkpoint = \"codellama/CodeLlama-7b-hf\""
   ]
  },
  {
   "cell_type": "code",
   "execution_count": 7,
   "id": "55aced08-e055-4a48-a089-7ba4fe94d3a4",
   "metadata": {},
   "outputs": [],
   "source": [
    "def tokenize(dataset, tokenizer): \n",
    "    def preprocess(examples):\n",
    "        return tokenizer(examples.pop('text'), truncation=True, padding=True, max_length=MAX_LEN)\n",
    "    \n",
    "    train_dataset = dataset['train'].map(preprocess, batched=True)\n",
    "    test_dataset = dataset['test'].map(preprocess, batched=True)\n",
    "    validation_dataset = dataset['validation'].map(preprocess, batched=True)\n",
    "\n",
    "    return [train_dataset, test_dataset, validation_dataset]"
   ]
  },
  {
   "cell_type": "markdown",
   "id": "877a1013-b472-41a1-bcb7-1b4240469b65",
   "metadata": {},
   "source": [
    "# Same Training Args for both models"
   ]
  },
  {
   "cell_type": "code",
   "execution_count": 8,
   "id": "13dc7339-9562-42a6-95b3-df95d5fa81e8",
   "metadata": {},
   "outputs": [],
   "source": [
    "def get_trainer(model, train_dataset, eval_dataset, data_collator):\n",
    "    training_args = TrainingArguments(\n",
    "        output_dir='./results',\n",
    "        eval_strategy=\"epoch\",\n",
    "        learning_rate=5e-4,\n",
    "        logging_steps=10,\n",
    "        num_train_epochs=6,\n",
    "        per_device_train_batch_size=8,\n",
    "    )\n",
    "    \n",
    "    return Trainer(\n",
    "        model=model,\n",
    "        args=training_args,\n",
    "        train_dataset=train_dataset,\n",
    "        eval_dataset=eval_dataset,\n",
    "        data_collator=data_collator,\n",
    "    )"
   ]
  },
  {
   "cell_type": "markdown",
   "id": "52967e70-1686-494b-9d83-35b0f556b769",
   "metadata": {},
   "source": [
    "# Model Evaluation"
   ]
  },
  {
   "cell_type": "code",
   "execution_count": 9,
   "id": "2151918a-d65a-4608-aad7-4ab3b6d42b29",
   "metadata": {},
   "outputs": [],
   "source": [
    "metric = evaluate.load('accuracy')\n",
    "\n",
    "def evaluate_model(inference_model, dataset, data_collator):\n",
    "    eval_dataloader = DataLoader(dataset.rename_column(\"label\", \"labels\"), batch_size=8, collate_fn=data_collator)\n",
    "    device = torch.device(\"cuda\" if torch.cuda.is_available() else \"cpu\")\n",
    "\n",
    "    inference_model.to(device)\n",
    "    inference_model.eval()\n",
    "    \n",
    "    for step, batch in enumerate(tqdm(eval_dataloader)):\n",
    "        batch.to(device)\n",
    "        with torch.no_grad():\n",
    "            outputs = inference_model(**batch)\n",
    "        predictions = outputs.logits.argmax(dim=-1)\n",
    "        predictions, references = predictions, batch[\"labels\"]\n",
    "        metric.add_batch(\n",
    "            predictions=predictions,\n",
    "            references=references,\n",
    "        )\n",
    "\n",
    "    eval_metric = metric.compute()\n",
    "    print(eval_metric)"
   ]
  },
  {
   "cell_type": "markdown",
   "id": "4f46cb68-b080-4204-a70c-f92b702d56ad",
   "metadata": {},
   "source": [
    "# Tokenize dataset"
   ]
  },
  {
   "cell_type": "code",
   "execution_count": 10,
   "id": "374f74f0-a861-41e7-9f75-59a66c7c2d9e",
   "metadata": {},
   "outputs": [
    {
     "data": {
      "application/vnd.jupyter.widget-view+json": {
       "model_id": "c69349212cc446fabe3483334be6a37a",
       "version_major": 2,
       "version_minor": 0
      },
      "text/plain": [
       "Map:   0%|          | 0/170 [00:00<?, ? examples/s]"
      ]
     },
     "metadata": {},
     "output_type": "display_data"
    },
    {
     "data": {
      "application/vnd.jupyter.widget-view+json": {
       "model_id": "7cd3858391d2428e8b1484af4899bb80",
       "version_major": 2,
       "version_minor": 0
      },
      "text/plain": [
       "Map:   0%|          | 0/37 [00:00<?, ? examples/s]"
      ]
     },
     "metadata": {},
     "output_type": "display_data"
    },
    {
     "data": {
      "application/vnd.jupyter.widget-view+json": {
       "model_id": "666fb6fe449b4dc288eea88340c7c13a",
       "version_major": 2,
       "version_minor": 0
      },
      "text/plain": [
       "Map:   0%|          | 0/37 [00:00<?, ? examples/s]"
      ]
     },
     "metadata": {},
     "output_type": "display_data"
    },
    {
     "name": "stderr",
     "output_type": "stream",
     "text": [
      "Some weights of RobertaForSequenceClassification were not initialized from the model checkpoint at roberta-base and are newly initialized: ['classifier.dense.bias', 'classifier.dense.weight', 'classifier.out_proj.bias', 'classifier.out_proj.weight']\n",
      "You should probably TRAIN this model on a down-stream task to be able to use it for predictions and inference.\n"
     ]
    }
   ],
   "source": [
    "# Roberta\n",
    "roberta_tokenizer = AutoTokenizer.from_pretrained(roberta_base_model)\n",
    "data_collator_roberta = DataCollatorWithPadding(tokenizer=roberta_tokenizer)\n",
    "[train_dataset_roberta, test_dataset_roberta, validation_dataset_roberta] = tokenize(dataset, roberta_tokenizer)\n",
    "\n",
    "# Baseline model\n",
    "baseline_model = AutoModelForSequenceClassification.from_pretrained(roberta_base_model, num_labels=2)"
   ]
  },
  {
   "cell_type": "code",
   "execution_count": 11,
   "id": "bc5cceb7-cf06-49da-9dc5-cb1f15d08c40",
   "metadata": {},
   "outputs": [
    {
     "data": {
      "application/vnd.jupyter.widget-view+json": {
       "model_id": "8bab4ccf391f463ea92ea87ff203de5e",
       "version_major": 2,
       "version_minor": 0
      },
      "text/plain": [
       "Map:   0%|          | 0/170 [00:00<?, ? examples/s]"
      ]
     },
     "metadata": {},
     "output_type": "display_data"
    },
    {
     "data": {
      "application/vnd.jupyter.widget-view+json": {
       "model_id": "6e0e54e0d44f468f9ad648709c83277c",
       "version_major": 2,
       "version_minor": 0
      },
      "text/plain": [
       "Map:   0%|          | 0/37 [00:00<?, ? examples/s]"
      ]
     },
     "metadata": {},
     "output_type": "display_data"
    },
    {
     "data": {
      "application/vnd.jupyter.widget-view+json": {
       "model_id": "6b2ac886b4744477ba1c4a4447e4176b",
       "version_major": 2,
       "version_minor": 0
      },
      "text/plain": [
       "Map:   0%|          | 0/37 [00:00<?, ? examples/s]"
      ]
     },
     "metadata": {},
     "output_type": "display_data"
    }
   ],
   "source": [
    "# Llama\n",
    "llama_tokenizer = AutoTokenizer.from_pretrained(llama_checkpoint, add_prefix_space=True)\n",
    "llama_tokenizer.pad_token_id = llama_tokenizer.eos_token_id\n",
    "llama_tokenizer.pad_token = llama_tokenizer.eos_token\n",
    "\n",
    "data_collator_llama = DataCollatorWithPadding(tokenizer=llama_tokenizer)\n",
    "[train_dataset_llama, test_dataset_llama, validation_dataset_llama] = tokenize(dataset, llama_tokenizer)"
   ]
  },
  {
   "cell_type": "markdown",
   "id": "51912e3c-380b-41ac-bf8d-7cf9e4e51192",
   "metadata": {},
   "source": [
    "## Default Roberta Fine-tuning"
   ]
  },
  {
   "cell_type": "code",
   "execution_count": 60,
   "id": "160df7d1-1265-4d90-b2b2-97c2d1bc904f",
   "metadata": {},
   "outputs": [
    {
     "name": "stderr",
     "output_type": "stream",
     "text": [
      "Some weights of RobertaForSequenceClassification were not initialized from the model checkpoint at roberta-base and are newly initialized: ['classifier.dense.bias', 'classifier.dense.weight', 'classifier.out_proj.bias', 'classifier.out_proj.weight']\n",
      "You should probably TRAIN this model on a down-stream task to be able to use it for predictions and inference.\n"
     ]
    }
   ],
   "source": [
    "full_finetuning_trainer_roberta = get_trainer(\n",
    "    AutoModelForSequenceClassification.from_pretrained(roberta_base_model, num_labels=2).cuda(), \n",
    "    train_dataset_roberta, \n",
    "    validation_dataset_roberta, \n",
    "    data_collator_roberta\n",
    ")"
   ]
  },
  {
   "cell_type": "code",
   "execution_count": 61,
   "id": "78e903e3-66f3-4a5d-ab93-4619af58b64b",
   "metadata": {},
   "outputs": [
    {
     "data": {
      "text/html": [
       "\n",
       "    <div>\n",
       "      \n",
       "      <progress value='132' max='132' style='width:300px; height:20px; vertical-align: middle;'></progress>\n",
       "      [132/132 00:22, Epoch 6/6]\n",
       "    </div>\n",
       "    <table border=\"1\" class=\"dataframe\">\n",
       "  <thead>\n",
       " <tr style=\"text-align: left;\">\n",
       "      <th>Epoch</th>\n",
       "      <th>Training Loss</th>\n",
       "      <th>Validation Loss</th>\n",
       "    </tr>\n",
       "  </thead>\n",
       "  <tbody>\n",
       "    <tr>\n",
       "      <td>1</td>\n",
       "      <td>0.826200</td>\n",
       "      <td>0.706675</td>\n",
       "    </tr>\n",
       "    <tr>\n",
       "      <td>2</td>\n",
       "      <td>0.695100</td>\n",
       "      <td>0.702294</td>\n",
       "    </tr>\n",
       "    <tr>\n",
       "      <td>3</td>\n",
       "      <td>0.739600</td>\n",
       "      <td>0.727882</td>\n",
       "    </tr>\n",
       "    <tr>\n",
       "      <td>4</td>\n",
       "      <td>0.689800</td>\n",
       "      <td>0.697582</td>\n",
       "    </tr>\n",
       "    <tr>\n",
       "      <td>5</td>\n",
       "      <td>0.684200</td>\n",
       "      <td>0.694653</td>\n",
       "    </tr>\n",
       "    <tr>\n",
       "      <td>6</td>\n",
       "      <td>0.693100</td>\n",
       "      <td>0.693782</td>\n",
       "    </tr>\n",
       "  </tbody>\n",
       "</table><p>"
      ],
      "text/plain": [
       "<IPython.core.display.HTML object>"
      ]
     },
     "metadata": {},
     "output_type": "display_data"
    },
    {
     "data": {
      "text/plain": [
       "TrainOutput(global_step=132, training_loss=0.7394965200713186, metrics={'train_runtime': 22.3261, 'train_samples_per_second': 45.686, 'train_steps_per_second': 5.912, 'total_flos': 268373276467200.0, 'train_loss': 0.7394965200713186, 'epoch': 6.0})"
      ]
     },
     "execution_count": 61,
     "metadata": {},
     "output_type": "execute_result"
    }
   ],
   "source": [
    "full_finetuning_trainer_roberta.train()"
   ]
  },
  {
   "cell_type": "markdown",
   "id": "68fe8670-ef5a-4470-9fda-47b4fdf1881c",
   "metadata": {},
   "source": [
    "## PEFT LORA Training"
   ]
  },
  {
   "cell_type": "code",
   "execution_count": 63,
   "id": "bee5405f-8ee2-42b4-a564-70a5d0d9135d",
   "metadata": {},
   "outputs": [
    {
     "name": "stderr",
     "output_type": "stream",
     "text": [
      "Some weights of RobertaForSequenceClassification were not initialized from the model checkpoint at roberta-base and are newly initialized: ['classifier.dense.bias', 'classifier.dense.weight', 'classifier.out_proj.bias', 'classifier.out_proj.weight']\n",
      "You should probably TRAIN this model on a down-stream task to be able to use it for predictions and inference.\n"
     ]
    },
    {
     "name": "stdout",
     "output_type": "stream",
     "text": [
      "PEFT Model\n",
      "trainable params: 887,042 || all params: 125,534,212 || trainable%: 0.7066\n"
     ]
    }
   ],
   "source": [
    "model_roberta = AutoModelForSequenceClassification.from_pretrained(roberta_base_model, num_labels=2)\n",
    "\n",
    "peft_config_roberta = LoraConfig(\n",
    "    task_type=\"SEQ_CLS\", \n",
    "    inference_mode=False, \n",
    "    r=8, \n",
    "    lora_alpha=16, \n",
    "    lora_dropout=0.1\n",
    ")\n",
    "peft_model_roberta = get_peft_model(model_roberta, peft_config_roberta)\n",
    "\n",
    "print('PEFT Model')\n",
    "peft_model_roberta.print_trainable_parameters()\n",
    "peft_lora_finetuning_trainer_roberta = get_trainer(\n",
    "    peft_model_roberta,\n",
    "    train_dataset_roberta, \n",
    "    validation_dataset_roberta, \n",
    "    data_collator_roberta\n",
    ")"
   ]
  },
  {
   "cell_type": "code",
   "execution_count": 64,
   "id": "3f9486af-0505-4e6a-96ca-cd6c41bb7e40",
   "metadata": {},
   "outputs": [
    {
     "data": {
      "text/html": [
       "\n",
       "    <div>\n",
       "      \n",
       "      <progress value='132' max='132' style='width:300px; height:20px; vertical-align: middle;'></progress>\n",
       "      [132/132 00:18, Epoch 6/6]\n",
       "    </div>\n",
       "    <table border=\"1\" class=\"dataframe\">\n",
       "  <thead>\n",
       " <tr style=\"text-align: left;\">\n",
       "      <th>Epoch</th>\n",
       "      <th>Training Loss</th>\n",
       "      <th>Validation Loss</th>\n",
       "    </tr>\n",
       "  </thead>\n",
       "  <tbody>\n",
       "    <tr>\n",
       "      <td>1</td>\n",
       "      <td>0.705100</td>\n",
       "      <td>0.768271</td>\n",
       "    </tr>\n",
       "    <tr>\n",
       "      <td>2</td>\n",
       "      <td>0.564400</td>\n",
       "      <td>0.733856</td>\n",
       "    </tr>\n",
       "    <tr>\n",
       "      <td>3</td>\n",
       "      <td>0.647300</td>\n",
       "      <td>0.762186</td>\n",
       "    </tr>\n",
       "    <tr>\n",
       "      <td>4</td>\n",
       "      <td>0.530800</td>\n",
       "      <td>0.629055</td>\n",
       "    </tr>\n",
       "    <tr>\n",
       "      <td>5</td>\n",
       "      <td>0.437000</td>\n",
       "      <td>0.667433</td>\n",
       "    </tr>\n",
       "    <tr>\n",
       "      <td>6</td>\n",
       "      <td>0.521300</td>\n",
       "      <td>0.675248</td>\n",
       "    </tr>\n",
       "  </tbody>\n",
       "</table><p>"
      ],
      "text/plain": [
       "<IPython.core.display.HTML object>"
      ]
     },
     "metadata": {},
     "output_type": "display_data"
    },
    {
     "data": {
      "text/html": [
       "\n",
       "    <div>\n",
       "      \n",
       "      <progress value='5' max='5' style='width:300px; height:20px; vertical-align: middle;'></progress>\n",
       "      [5/5 00:00]\n",
       "    </div>\n",
       "    "
      ],
      "text/plain": [
       "<IPython.core.display.HTML object>"
      ]
     },
     "metadata": {},
     "output_type": "display_data"
    },
    {
     "data": {
      "text/plain": [
       "{'eval_loss': 0.6752476692199707,\n",
       " 'eval_runtime': 0.2717,\n",
       " 'eval_samples_per_second': 136.166,\n",
       " 'eval_steps_per_second': 18.401,\n",
       " 'epoch': 6.0}"
      ]
     },
     "execution_count": 64,
     "metadata": {},
     "output_type": "execute_result"
    }
   ],
   "source": [
    "peft_lora_finetuning_trainer_roberta.train()\n",
    "peft_lora_finetuning_trainer_roberta.evaluate()"
   ]
  },
  {
   "cell_type": "markdown",
   "id": "2335720b-28b5-4a93-ace8-85784cd5b94d",
   "metadata": {},
   "source": [
    "## Llama Lora fine tuning "
   ]
  },
  {
   "cell_type": "code",
   "execution_count": 12,
   "id": "7b3fd918-845e-4636-a15e-aef4eef7202f",
   "metadata": {},
   "outputs": [
    {
     "data": {
      "application/vnd.jupyter.widget-view+json": {
       "model_id": "407a3fdc8d344917a271866b620a5dc3",
       "version_major": 2,
       "version_minor": 0
      },
      "text/plain": [
       "Loading checkpoint shards:   0%|          | 0/2 [00:00<?, ?it/s]"
      ]
     },
     "metadata": {},
     "output_type": "display_data"
    },
    {
     "name": "stderr",
     "output_type": "stream",
     "text": [
      "Some weights of LlamaForSequenceClassification were not initialized from the model checkpoint at codellama/CodeLlama-7b-hf and are newly initialized: ['score.weight']\n",
      "You should probably TRAIN this model on a down-stream task to be able to use it for predictions and inference.\n"
     ]
    }
   ],
   "source": [
    "from transformers import AutoModelForSequenceClassification\n",
    "import torch\n",
    "llama_model = AutoModelForSequenceClassification.from_pretrained(\n",
    "  pretrained_model_name_or_path=llama_checkpoint,\n",
    "  num_labels=2,\n",
    ")\n",
    "llama_model = llama_model.cuda()\n",
    "llama_model.config.pad_token_id = llama_model.config.eos_token_id"
   ]
  },
  {
   "cell_type": "code",
   "execution_count": 66,
   "id": "18569a88-1872-4260-9f14-149666a9e0ac",
   "metadata": {},
   "outputs": [
    {
     "name": "stdout",
     "output_type": "stream",
     "text": [
      "Llama before fine-tuning\n"
     ]
    },
    {
     "name": "stderr",
     "output_type": "stream",
     "text": [
      "100%|██████████| 5/5 [00:05<00:00,  1.10s/it]"
     ]
    },
    {
     "name": "stdout",
     "output_type": "stream",
     "text": [
      "{'accuracy': 0.4864864864864865}\n"
     ]
    },
    {
     "name": "stderr",
     "output_type": "stream",
     "text": [
      "\n"
     ]
    }
   ],
   "source": [
    "print(\"Llama before fine-tuning\")\n",
    "evaluate_model(llama_model, test_dataset_llama, data_collator_llama)"
   ]
  },
  {
   "cell_type": "code",
   "execution_count": 13,
   "id": "a7fc0fbf-11aa-4f7b-b299-25fb2d37b539",
   "metadata": {},
   "outputs": [
    {
     "name": "stdout",
     "output_type": "stream",
     "text": [
      "trainable params: 8,396,800 || all params: 6,615,814,144 || trainable%: 0.1269\n"
     ]
    }
   ],
   "source": [
    "from peft import get_peft_model, LoraConfig, TaskType\n",
    "llama_peft_config = LoraConfig(\n",
    "    task_type=TaskType.SEQ_CLS, r=16, lora_alpha=16, lora_dropout=0.05, bias=\"none\", \n",
    "    target_modules=[\n",
    "        \"q_proj\",\n",
    "        \"v_proj\",  \n",
    "    ],\n",
    ")\n",
    "\n",
    "llama_model = get_peft_model(llama_model, llama_peft_config)\n",
    "llama_model.print_trainable_parameters()"
   ]
  },
  {
   "cell_type": "code",
   "execution_count": 14,
   "id": "187992af-058f-40fa-ba93-7fcb7e510fed",
   "metadata": {},
   "outputs": [
    {
     "data": {
      "application/vnd.jupyter.widget-view+json": {
       "model_id": "1a2e77dbc714477da8503f3b6d059d67",
       "version_major": 2,
       "version_minor": 0
      },
      "text/plain": [
       "Map:   0%|          | 0/170 [00:00<?, ? examples/s]"
      ]
     },
     "metadata": {},
     "output_type": "display_data"
    },
    {
     "data": {
      "application/vnd.jupyter.widget-view+json": {
       "model_id": "b02bbcbd03d04e0a9f7b0266fea44f8e",
       "version_major": 2,
       "version_minor": 0
      },
      "text/plain": [
       "Map:   0%|          | 0/37 [00:00<?, ? examples/s]"
      ]
     },
     "metadata": {},
     "output_type": "display_data"
    },
    {
     "data": {
      "application/vnd.jupyter.widget-view+json": {
       "model_id": "e0c24b29b5e84212ab39eb451f6bc35d",
       "version_major": 2,
       "version_minor": 0
      },
      "text/plain": [
       "Map:   0%|          | 0/37 [00:00<?, ? examples/s]"
      ]
     },
     "metadata": {},
     "output_type": "display_data"
    }
   ],
   "source": [
    "from transformers import TrainingArguments, Trainer\n",
    "\n",
    "# Llama\n",
    "llama_tokenizer = AutoTokenizer.from_pretrained(llama_checkpoint, add_prefix_space=True)\n",
    "llama_tokenizer.pad_token_id = llama_tokenizer.eos_token_id\n",
    "llama_tokenizer.pad_token = llama_tokenizer.eos_token\n",
    "\n",
    "data_collator_llama = DataCollatorWithPadding(tokenizer=llama_tokenizer)\n",
    "[train_dataset_llama, test_dataset_llama, validation_dataset_llama] = tokenize(dataset, llama_tokenizer)\n",
    "\n",
    "lr = 1e-4\n",
    "batch_size = 8\n",
    "num_epochs = 6\n",
    "training_args = TrainingArguments(\n",
    "    eval_strategy=\"epoch\",\n",
    "    save_strategy=\"epoch\",\n",
    "    output_dir=\"./llama-lora-token-classification\",\n",
    "    learning_rate=lr,\n",
    "    lr_scheduler_type= \"constant\",\n",
    "    warmup_ratio= 0.1,\n",
    "    max_grad_norm= 0.3,\n",
    "    per_device_train_batch_size=batch_size,\n",
    "    per_device_eval_batch_size=batch_size,\n",
    "    num_train_epochs=num_epochs,\n",
    "    weight_decay=0.001,\n",
    "    load_best_model_at_end=True,\n",
    "    report_to=\"none\",\n",
    "    fp16=True,\n",
    "    logging_steps=30\n",
    ")\n",
    "\n",
    "llama_trainer = Trainer(\n",
    "    model=llama_model,\n",
    "    args=training_args,\n",
    "    train_dataset=train_dataset_llama,\n",
    "    eval_dataset=validation_dataset_llama,\n",
    "    data_collator=data_collator_llama,\n",
    "    # compute_metrics=compute_metrics\n",
    ")"
   ]
  },
  {
   "cell_type": "code",
   "execution_count": 15,
   "id": "cd116133-3def-49f3-b922-58c69cfdc514",
   "metadata": {},
   "outputs": [
    {
     "data": {
      "text/html": [
       "\n",
       "    <div>\n",
       "      \n",
       "      <progress value='132' max='132' style='width:300px; height:20px; vertical-align: middle;'></progress>\n",
       "      [132/132 01:12, Epoch 6/6]\n",
       "    </div>\n",
       "    <table border=\"1\" class=\"dataframe\">\n",
       "  <thead>\n",
       " <tr style=\"text-align: left;\">\n",
       "      <th>Epoch</th>\n",
       "      <th>Training Loss</th>\n",
       "      <th>Validation Loss</th>\n",
       "    </tr>\n",
       "  </thead>\n",
       "  <tbody>\n",
       "    <tr>\n",
       "      <td>1</td>\n",
       "      <td>No log</td>\n",
       "      <td>0.586246</td>\n",
       "    </tr>\n",
       "    <tr>\n",
       "      <td>2</td>\n",
       "      <td>0.764400</td>\n",
       "      <td>0.556528</td>\n",
       "    </tr>\n",
       "    <tr>\n",
       "      <td>3</td>\n",
       "      <td>0.544100</td>\n",
       "      <td>0.561479</td>\n",
       "    </tr>\n",
       "    <tr>\n",
       "      <td>4</td>\n",
       "      <td>0.544100</td>\n",
       "      <td>0.583269</td>\n",
       "    </tr>\n",
       "    <tr>\n",
       "      <td>5</td>\n",
       "      <td>0.389600</td>\n",
       "      <td>0.428359</td>\n",
       "    </tr>\n",
       "    <tr>\n",
       "      <td>6</td>\n",
       "      <td>0.145700</td>\n",
       "      <td>0.357248</td>\n",
       "    </tr>\n",
       "  </tbody>\n",
       "</table><p>"
      ],
      "text/plain": [
       "<IPython.core.display.HTML object>"
      ]
     },
     "metadata": {},
     "output_type": "display_data"
    },
    {
     "data": {
      "text/plain": [
       "TrainOutput(global_step=132, training_loss=0.4310609246745254, metrics={'train_runtime': 74.3851, 'train_samples_per_second': 13.712, 'train_steps_per_second': 1.775, 'total_flos': 2.031934507057152e+16, 'train_loss': 0.4310609246745254, 'epoch': 6.0})"
      ]
     },
     "execution_count": 15,
     "metadata": {},
     "output_type": "execute_result"
    }
   ],
   "source": [
    "llama_trainer.train()"
   ]
  },
  {
   "cell_type": "code",
   "execution_count": 71,
   "id": "38f6afc1-c3cb-4e76-947f-d9d610ef2844",
   "metadata": {},
   "outputs": [
    {
     "name": "stdout",
     "output_type": "stream",
     "text": [
      "Roberta Full fine-tuning accuracy\n"
     ]
    },
    {
     "name": "stderr",
     "output_type": "stream",
     "text": [
      "100%|██████████| 5/5 [00:00<00:00, 23.29it/s]\n"
     ]
    },
    {
     "name": "stdout",
     "output_type": "stream",
     "text": [
      "{'accuracy': 0.4594594594594595}\n",
      "Roberta Lora fine-tuning\n"
     ]
    },
    {
     "name": "stderr",
     "output_type": "stream",
     "text": [
      "100%|██████████| 5/5 [00:00<00:00, 19.38it/s]"
     ]
    },
    {
     "name": "stdout",
     "output_type": "stream",
     "text": [
      "{'accuracy': 0.7567567567567568}\n"
     ]
    },
    {
     "name": "stderr",
     "output_type": "stream",
     "text": [
      "\n"
     ]
    }
   ],
   "source": [
    "print(\"Roberta Full fine-tuning accuracy\")\n",
    "evaluate_model(full_finetuning_trainer_roberta.model, test_dataset_roberta, data_collator_roberta)\n",
    "\n",
    "print(\"Roberta Lora fine-tuning\")\n",
    "evaluate_model(peft_lora_finetuning_trainer_roberta.model, test_dataset_roberta, data_collator_roberta)"
   ]
  },
  {
   "cell_type": "code",
   "execution_count": 16,
   "id": "c8630c2a-9847-4bea-9367-01599c81e7d6",
   "metadata": {},
   "outputs": [
    {
     "name": "stdout",
     "output_type": "stream",
     "text": [
      "Llama Lora fine-tuning\n"
     ]
    },
    {
     "name": "stderr",
     "output_type": "stream",
     "text": [
      "100%|██████████| 5/5 [00:00<00:00,  5.15it/s]"
     ]
    },
    {
     "name": "stdout",
     "output_type": "stream",
     "text": [
      "{'accuracy': 0.7027027027027027}\n"
     ]
    },
    {
     "name": "stderr",
     "output_type": "stream",
     "text": [
      "\n"
     ]
    }
   ],
   "source": [
    "print(\"Llama Lora fine-tuning\")\n",
    "evaluate_model(llama_trainer.model, test_dataset_llama, data_collator_llama)"
   ]
  },
  {
   "cell_type": "code",
   "execution_count": 17,
   "id": "06eb0604-2321-41db-bb09-c9581208ef78",
   "metadata": {},
   "outputs": [
    {
     "name": "stdout",
     "output_type": "stream",
     "text": [
      "No fine-tuning accuracy\n"
     ]
    },
    {
     "name": "stderr",
     "output_type": "stream",
     "text": [
      "100%|██████████| 5/5 [00:00<00:00, 20.76it/s]"
     ]
    },
    {
     "name": "stdout",
     "output_type": "stream",
     "text": [
      "{'accuracy': 0.4864864864864865}\n"
     ]
    },
    {
     "name": "stderr",
     "output_type": "stream",
     "text": [
      "\n"
     ]
    }
   ],
   "source": [
    "print(\"No fine-tuning accuracy\")\n",
    "evaluate_model(baseline_model, test_dataset_roberta, data_collator_roberta)"
   ]
  },
  {
   "cell_type": "code",
   "execution_count": 23,
   "id": "d2a0f6ca-360a-4449-837a-cadf2f81f8b3",
   "metadata": {},
   "outputs": [],
   "source": [
    "import matplotlib.pyplot as plt\n",
    "\n",
    "def plot_training(trainer): \n",
    "    logs = trainer.state.log_history\n",
    "\n",
    "    train_loss = [log['loss'] for log in logs if 'loss' in log]\n",
    "    eval_loss = [log['eval_loss'] for log in logs if 'eval_loss' in log]\n",
    "    steps = [log['step'] for log in logs if 'step' in log]\n",
    "    \n",
    "    plt.figure(figsize=(12, 5))\n",
    "    plt.subplot(1, 2, 1)\n",
    "    plt.plot(steps[:len(train_loss)], train_loss, label='Training Loss')\n",
    "    plt.xlabel('Steps')\n",
    "    plt.ylabel('Loss')\n",
    "    plt.title('Training Loss Over Time')\n",
    "    plt.legend()\n",
    "    \n",
    "    plt.subplot(1, 2, 2)\n",
    "    plt.plot(steps[:len(eval_loss)], eval_loss, label='Evaluation Loss', color='orange')\n",
    "    plt.xlabel('Steps')\n",
    "    plt.ylabel('Loss')\n",
    "    plt.title('Evaluation Accuracy Over Time')\n",
    "    plt.legend()\n",
    "    \n",
    "    plt.show()"
   ]
  },
  {
   "cell_type": "code",
   "execution_count": 24,
   "id": "c9bb6f67-8635-4814-ae45-a6cc12288369",
   "metadata": {},
   "outputs": [
    {
     "data": {
      "image/png": "[encoded data removed]",
      "text/plain": [
       "<Figure size 1200x500 with 2 Axes>"
      ]
     },
     "metadata": {},
     "output_type": "display_data"
    }
   ],
   "source": [
    "plot_training(llama_trainer)"
   ]
  }
 ],
 "metadata": {
  "kernelspec": {
   "display_name": "Python 3 (ipykernel)",
   "language": "python",
   "name": "python3"
  },
  "language_info": {
   "codemirror_mode": {
    "name": "ipython",
    "version": 3
   },
   "file_extension": ".py",
   "mimetype": "text/x-python",
   "name": "python",
   "nbconvert_exporter": "python",
   "pygments_lexer": "ipython3",
   "version": "3.10.12"
  }
 },
 "nbformat": 4,
 "nbformat_minor": 5
}
